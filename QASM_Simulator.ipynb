{
 "cells": [
  {
   "cell_type": "code",
   "execution_count": 1,
   "metadata": {},
   "outputs": [],
   "source": [
    "# Importing standard Qiskit libraries\n",
    "from qiskit import QuantumCircuit, transpile, Aer, IBMQ, QuantumRegister, ClassicalRegister, execute\n",
    "from qiskit.visualization import *\n",
    "import numpy as np"
   ]
  },
  {
   "cell_type": "code",
   "execution_count": 6,
   "metadata": {},
   "outputs": [
    {
     "data": {
      "text/html": [
       "<pre style=\"word-wrap: normal;white-space: pre;background: #fff0;line-height: 1.1;font-family: &quot;Courier New&quot;,Courier,monospace\">                 ┌───┐┌───┐\n",
       "         qreg_0: ┤ H ├┤ X ├\n",
       "                 ├───┤├───┤\n",
       "         qreg_1: ┤ H ├┤ Z ├\n",
       "                 └───┘└───┘\n",
       "classical_reg: 2/══════════\n",
       "                           </pre>"
      ],
      "text/plain": [
       "                 ┌───┐┌───┐\n",
       "         qreg_0: ┤ H ├┤ X ├\n",
       "                 ├───┤├───┤\n",
       "         qreg_1: ┤ H ├┤ Z ├\n",
       "                 └───┘└───┘\n",
       "classical_reg: 2/══════════\n",
       "                           "
      ]
     },
     "execution_count": 6,
     "metadata": {},
     "output_type": "execute_result"
    }
   ],
   "source": [
    "# Built a Quantum Circuit with 2 Qubit lines few Hadamard and CNOt gates\n",
    "qr = QuantumRegister(2, 'qreg')\n",
    "cr = ClassicalRegister(2, 'classical_reg')\n",
    "qc_circ_simple = QuantumCircuit(qr, cr)\n",
    "qc_circ_simple.h([0,1])\n",
    "qc_circ_simple.x(0)\n",
    "qc_circ_simple.z(1)\n",
    "qc_circ_simple.draw()\n"
   ]
  },
  {
   "cell_type": "code",
   "execution_count": 7,
   "metadata": {},
   "outputs": [
    {
     "data": {
      "text/html": [
       "<pre style=\"word-wrap: normal;white-space: pre;background: #fff0;line-height: 1.1;font-family: &quot;Courier New&quot;,Courier,monospace\">                 ┌───┐┌───┐┌─┐   \n",
       "         qreg_0: ┤ H ├┤ X ├┤M├───\n",
       "                 ├───┤├───┤└╥┘┌─┐\n",
       "         qreg_1: ┤ H ├┤ Z ├─╫─┤M├\n",
       "                 └───┘└───┘ ║ └╥┘\n",
       "classical_reg: 2/═══════════╩══╩═\n",
       "                            0  1 </pre>"
      ],
      "text/plain": [
       "                 ┌───┐┌───┐┌─┐   \n",
       "         qreg_0: ┤ H ├┤ X ├┤M├───\n",
       "                 ├───┤├───┤└╥┘┌─┐\n",
       "         qreg_1: ┤ H ├┤ Z ├─╫─┤M├\n",
       "                 └───┘└───┘ ║ └╥┘\n",
       "classical_reg: 2/═══════════╩══╩═\n",
       "                            0  1 "
      ]
     },
     "execution_count": 7,
     "metadata": {},
     "output_type": "execute_result"
    }
   ],
   "source": [
    "qc_circ_simple.measure([0,1], [0,1])\n",
    "qc_circ_simple.draw()"
   ]
  },
  {
   "cell_type": "code",
   "execution_count": 8,
   "metadata": {},
   "outputs": [
    {
     "name": "stdout",
     "output_type": "stream",
     "text": [
      "{'00': 254, '01': 228, '10': 265, '11': 253}\n"
     ]
    },
    {
     "data": {
      "image/png": "[encoded data removed]",
      "text/plain": [
       "<Figure size 504x360 with 1 Axes>"
      ]
     },
     "execution_count": 8,
     "metadata": {},
     "output_type": "execute_result"
    }
   ],
   "source": [
    "# Select Aer.qasm_simulator to run our circuit \n",
    "bkend = Aer.get_backend('qasm_simulator')  #Defining qasm Simulator as bkend needed for getting probability for each cpossible result\n",
    "shots = 1000\n",
    "result = execute(qc_circ_simple, bkend, shots=shots).result() #Executes Job 1000 times with qc Circuit 100 and Statevector Simulator as bkend and gets job result\n",
    "counts=result.get_counts() #gets result of of jobs\n",
    "print(counts)\n",
    "plot_histogram(result.get_counts()) #plots histogram with results of jobs"
   ]
  },
  {
   "cell_type": "code",
   "execution_count": 16,
   "metadata": {},
   "outputs": [
    {
     "data": {
      "text/html": [
       "<pre style=\"word-wrap: normal;white-space: pre;background: #fff0;line-height: 1.1;font-family: &quot;Courier New&quot;,Courier,monospace\">                 ┌───┐     ┌───┐\n",
       "         qreg_0: ┤ H ├──■──┤ H ├\n",
       "                 └───┘┌─┴─┐├───┤\n",
       "         qreg_1: ─────┤ X ├┤ H ├\n",
       "                      └───┘└───┘\n",
       "classical_reg: 2/═══════════════\n",
       "                                </pre>"
      ],
      "text/plain": [
       "                 ┌───┐     ┌───┐\n",
       "         qreg_0: ┤ H ├──■──┤ H ├\n",
       "                 └───┘┌─┴─┐├───┤\n",
       "         qreg_1: ─────┤ X ├┤ H ├\n",
       "                      └───┘└───┘\n",
       "classical_reg: 2/═══════════════\n",
       "                                "
      ]
     },
     "execution_count": 16,
     "metadata": {},
     "output_type": "execute_result"
    }
   ],
   "source": [
    "# Built a Quantum Circuit with 2 Qubit lines few Hadamard and CNOt gates\n",
    "qr = QuantumRegister(2, 'qreg')\n",
    "cr = ClassicalRegister(2, 'classical_reg')\n",
    "qc_circ_entangled = QuantumCircuit(qr, cr)\n",
    "qc_circ_entangled.h(0)\n",
    "qc_circ_entangled.cx(0,1)\n",
    "qc_circ_entangled.h([0,1])\n",
    "qc_circ_entangled.draw()\n"
   ]
  },
  {
   "cell_type": "code",
   "execution_count": 17,
   "metadata": {},
   "outputs": [
    {
     "data": {
      "text/html": [
       "<pre style=\"word-wrap: normal;white-space: pre;background: #fff0;line-height: 1.1;font-family: &quot;Courier New&quot;,Courier,monospace\">                 ┌───┐     ┌───┐┌─┐   \n",
       "         qreg_0: ┤ H ├──■──┤ H ├┤M├───\n",
       "                 └───┘┌─┴─┐├───┤└╥┘┌─┐\n",
       "         qreg_1: ─────┤ X ├┤ H ├─╫─┤M├\n",
       "                      └───┘└───┘ ║ └╥┘\n",
       "classical_reg: 2/════════════════╩══╩═\n",
       "                                 0  1 </pre>"
      ],
      "text/plain": [
       "                 ┌───┐     ┌───┐┌─┐   \n",
       "         qreg_0: ┤ H ├──■──┤ H ├┤M├───\n",
       "                 └───┘┌─┴─┐├───┤└╥┘┌─┐\n",
       "         qreg_1: ─────┤ X ├┤ H ├─╫─┤M├\n",
       "                      └───┘└───┘ ║ └╥┘\n",
       "classical_reg: 2/════════════════╩══╩═\n",
       "                                 0  1 "
      ]
     },
     "execution_count": 17,
     "metadata": {},
     "output_type": "execute_result"
    }
   ],
   "source": [
    "qc_circ_entangled.measure([0,1], [0,1])\n",
    "qc_circ_entangled.draw()"
   ]
  },
  {
   "cell_type": "code",
   "execution_count": 18,
   "metadata": {},
   "outputs": [
    {
     "name": "stdout",
     "output_type": "stream",
     "text": [
      "{'11': 496, '00': 504}\n"
     ]
    },
    {
     "data": {
      "image/png": "[encoded data removed]",
      "text/plain": [
       "<Figure size 504x360 with 1 Axes>"
      ]
     },
     "execution_count": 18,
     "metadata": {},
     "output_type": "execute_result"
    }
   ],
   "source": [
    "# Select Aer.qasm_simulator to run our circuit \n",
    "bkend = Aer.get_backend('qasm_simulator')  #Defining qasm Simulator as bkend needed for getting probability for each cpossible result\n",
    "shots = 1000\n",
    "result = execute(qc_circ_entangled, bkend, shots=shots).result() #Executes Job 1000 times with qc Circuit 100 and Statevector Simulator as bkend and gets job result\n",
    "counts = result.get_counts() #gets result of of jobs\n",
    "print(counts)\n",
    "plot_histogram(result.get_counts()) #plots histogram with results of jobs"
   ]
  },
  {
   "cell_type": "code",
   "execution_count": null,
   "metadata": {},
   "outputs": [],
   "source": [
    "# see if you start with a hadamard in both lines do you still get\n",
    "# a equal distribution of + and - "
   ]
  },
  {
   "cell_type": "code",
   "execution_count": null,
   "metadata": {},
   "outputs": [],
   "source": [
    "#end of program"
   ]
  }
 ],
 "metadata": {
  "kernelspec": {
   "display_name": "Python 3",
   "language": "python",
   "name": "python3"
  },
  "language_info": {
   "codemirror_mode": {
    "name": "ipython",
    "version": 3
   },
   "file_extension": ".py",
   "mimetype": "text/x-python",
   "name": "python",
   "nbconvert_exporter": "python",
   "pygments_lexer": "ipython3",
   "version": "3.8.5"
  },
  "widgets": {
   "application/vnd.jupyter.widget-state+json": {
    "state": {
     "050a718d9352469983a6c49ffc96b963": {
      "model_module": "@jupyter-widgets/controls",
      "model_module_version": "1.5.0",
      "model_name": "HTMLModel",
      "state": {
       "layout": "IPY_MODEL_c31c5a2ad65e49648d90c2d41f3b3e5f",
       "style": "IPY_MODEL_3857bb6cec08416ba2de774c1232eda7",
       "value": "<h5>Queue</h5>"
      }
     },
     "1ac3c5839c5c4b1a9130b9dc176dda1d": {
      "model_module": "@jupyter-widgets/controls",
      "model_module_version": "1.5.0",
      "model_name": "DescriptionStyleModel",
      "state": {
       "description_width": ""
      }
     },
     "293d41fbd17942d9ba8f62b404ba685a": {
      "model_module": "@jupyter-widgets/controls",
      "model_module_version": "1.5.0",
      "model_name": "GridBoxModel",
      "state": {
       "children": [
        "IPY_MODEL_90f24f8e22ce4391aef03c07c40e4043"
       ],
       "layout": "IPY_MODEL_d3d910c073114e71bc630792111e18be"
      }
     },
     "3794450e9c754d7bb70c51f5348b839e": {
      "model_module": "@jupyter-widgets/base",
      "model_module_version": "1.2.0",
      "model_name": "LayoutModel",
      "state": {
       "width": "145px"
      }
     },
     "3857bb6cec08416ba2de774c1232eda7": {
      "model_module": "@jupyter-widgets/controls",
      "model_module_version": "1.5.0",
      "model_name": "DescriptionStyleModel",
      "state": {
       "description_width": ""
      }
     },
     "573431f0b2b841378b95a691240fcb27": {
      "model_module": "@jupyter-widgets/controls",
      "model_module_version": "1.5.0",
      "model_name": "HTMLModel",
      "state": {
       "layout": "IPY_MODEL_968b667bff2940f79f7bb05e9c9bd2a4",
       "style": "IPY_MODEL_b178cb047fb545e6b50c24cf815eb22d",
       "value": "<h5>Job ID</h5>"
      }
     },
     "577a0e6fb2fb43b1a692ad6b2acaeee4": {
      "model_module": "@jupyter-widgets/controls",
      "model_module_version": "1.5.0",
      "model_name": "HBoxModel",
      "state": {
       "children": [
        "IPY_MODEL_573431f0b2b841378b95a691240fcb27",
        "IPY_MODEL_d9ee14b10c0e4a8f98667ee26a308859",
        "IPY_MODEL_98f310d892ad42e1ab9d427faa1fe4e4",
        "IPY_MODEL_050a718d9352469983a6c49ffc96b963",
        "IPY_MODEL_c0eeb8160a794422a913af39ca653f93"
       ],
       "layout": "IPY_MODEL_f2aaa65cb62c494e95abd04e6407683c"
      }
     },
     "6e26bb93df8749ab9573b65827641a40": {
      "model_module": "@jupyter-widgets/controls",
      "model_module_version": "1.5.0",
      "model_name": "DescriptionStyleModel",
      "state": {
       "description_width": ""
      }
     },
     "6f0fbd6e3dd241d3964d53fad815e176": {
      "model_module": "@jupyter-widgets/base",
      "model_module_version": "1.2.0",
      "model_name": "LayoutModel",
      "state": {}
     },
     "8bffafaec2b14e099c5ef3e786bb7529": {
      "model_module": "@jupyter-widgets/controls",
      "model_module_version": "1.5.0",
      "model_name": "DescriptionStyleModel",
      "state": {
       "description_width": ""
      }
     },
     "90f24f8e22ce4391aef03c07c40e4043": {
      "model_module": "@jupyter-widgets/controls",
      "model_module_version": "1.5.0",
      "model_name": "ButtonModel",
      "state": {
       "button_style": "primary",
       "description": "Clear",
       "layout": "IPY_MODEL_d8b7cc8cd4a049949632509009f2ceda",
       "style": "IPY_MODEL_c325e472554f4fe5876b442cb9462562"
      }
     },
     "968b667bff2940f79f7bb05e9c9bd2a4": {
      "model_module": "@jupyter-widgets/base",
      "model_module_version": "1.2.0",
      "model_name": "LayoutModel",
      "state": {
       "width": "190px"
      }
     },
     "98f310d892ad42e1ab9d427faa1fe4e4": {
      "model_module": "@jupyter-widgets/controls",
      "model_module_version": "1.5.0",
      "model_name": "HTMLModel",
      "state": {
       "layout": "IPY_MODEL_d003fea385804d548681605b5baacb7f",
       "style": "IPY_MODEL_9d5589bd5d5e409c82607a6769f3c517",
       "value": "<h5>Status</h5>"
      }
     },
     "9ca7a7bbbd774abbbad961c8be805563": {
      "model_module": "@jupyter-widgets/controls",
      "model_module_version": "1.5.0",
      "model_name": "HTMLModel",
      "state": {
       "layout": "IPY_MODEL_bba8d479d5ae4e59b5e087a00da74873",
       "style": "IPY_MODEL_8bffafaec2b14e099c5ef3e786bb7529",
       "value": "<p style='font-family: IBM Plex Sans, Arial, Helvetica, sans-serif; font-size: 20px; font-weight: medium;'>Circuit Properties</p>"
      }
     },
     "9d5589bd5d5e409c82607a6769f3c517": {
      "model_module": "@jupyter-widgets/controls",
      "model_module_version": "1.5.0",
      "model_name": "DescriptionStyleModel",
      "state": {
       "description_width": ""
      }
     },
     "b178cb047fb545e6b50c24cf815eb22d": {
      "model_module": "@jupyter-widgets/controls",
      "model_module_version": "1.5.0",
      "model_name": "DescriptionStyleModel",
      "state": {
       "description_width": ""
      }
     },
     "bba8d479d5ae4e59b5e087a00da74873": {
      "model_module": "@jupyter-widgets/base",
      "model_module_version": "1.2.0",
      "model_name": "LayoutModel",
      "state": {
       "margin": "0px 0px 10px 0px"
      }
     },
     "c0eeb8160a794422a913af39ca653f93": {
      "model_module": "@jupyter-widgets/controls",
      "model_module_version": "1.5.0",
      "model_name": "HTMLModel",
      "state": {
       "layout": "IPY_MODEL_6f0fbd6e3dd241d3964d53fad815e176",
       "style": "IPY_MODEL_1ac3c5839c5c4b1a9130b9dc176dda1d",
       "value": "<h5>Message</h5>"
      }
     },
     "c31c5a2ad65e49648d90c2d41f3b3e5f": {
      "model_module": "@jupyter-widgets/base",
      "model_module_version": "1.2.0",
      "model_name": "LayoutModel",
      "state": {
       "width": "70px"
      }
     },
     "c325e472554f4fe5876b442cb9462562": {
      "model_module": "@jupyter-widgets/controls",
      "model_module_version": "1.5.0",
      "model_name": "ButtonStyleModel",
      "state": {}
     },
     "d003fea385804d548681605b5baacb7f": {
      "model_module": "@jupyter-widgets/base",
      "model_module_version": "1.2.0",
      "model_name": "LayoutModel",
      "state": {
       "width": "95px"
      }
     },
     "d3d910c073114e71bc630792111e18be": {
      "model_module": "@jupyter-widgets/base",
      "model_module_version": "1.2.0",
      "model_name": "LayoutModel",
      "state": {
       "grid_template_areas": "\n                                       \". . . . right \"\n                                        ",
       "grid_template_columns": "20% 20% 20% 20% 20%",
       "width": "100%"
      }
     },
     "d8b7cc8cd4a049949632509009f2ceda": {
      "model_module": "@jupyter-widgets/base",
      "model_module_version": "1.2.0",
      "model_name": "LayoutModel",
      "state": {
       "grid_area": "right",
       "padding": "0px 0px 0px 0px",
       "width": "70px"
      }
     },
     "d9ee14b10c0e4a8f98667ee26a308859": {
      "model_module": "@jupyter-widgets/controls",
      "model_module_version": "1.5.0",
      "model_name": "HTMLModel",
      "state": {
       "layout": "IPY_MODEL_3794450e9c754d7bb70c51f5348b839e",
       "style": "IPY_MODEL_6e26bb93df8749ab9573b65827641a40",
       "value": "<h5>Backend</h5>"
      }
     },
     "f2aaa65cb62c494e95abd04e6407683c": {
      "model_module": "@jupyter-widgets/base",
      "model_module_version": "1.2.0",
      "model_name": "LayoutModel",
      "state": {
       "margin": "0px 0px 0px 37px",
       "width": "600px"
      }
     }
    },
    "version_major": 2,
    "version_minor": 0
   }
  }
 },
 "nbformat": 4,
 "nbformat_minor": 5
}
